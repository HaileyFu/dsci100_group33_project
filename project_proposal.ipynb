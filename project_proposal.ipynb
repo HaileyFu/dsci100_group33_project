{
 "cells": [
  {
   "cell_type": "markdown",
   "id": "bd9eb7eb-767f-4adb-84f2-7090137ac111",
   "metadata": {},
   "source": [
    "# Project Proposal"
   ]
  },
  {
   "cell_type": "code",
   "execution_count": null,
   "id": "d8b575dd-57a3-44ee-a5c8-ab6b2cfcf757",
   "metadata": {},
   "outputs": [],
   "source": []
  }
 ],
 "metadata": {
  "kernelspec": {
   "display_name": "R",
   "language": "R",
   "name": "ir"
  },
  "language_info": {
   "codemirror_mode": "r",
   "file_extension": ".r",
   "mimetype": "text/x-r-source",
   "name": "R",
   "pygments_lexer": "r",
   "version": "4.2.2"
  }
 },
 "nbformat": 4,
 "nbformat_minor": 5
}
