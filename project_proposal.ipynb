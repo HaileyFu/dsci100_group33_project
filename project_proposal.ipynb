{
 "cells": [
  {
   "cell_type": "markdown",
   "id": "bd9eb7eb-767f-4adb-84f2-7090137ac111",
   "metadata": {},
   "source": [
    "# Project Proposal"
   ]
  },
  {
   "cell_type": "markdown",
   "id": "0d914ef3-7470-4f0f-b203-651a731daad9",
   "metadata": {},
   "source": [
    "**Introduction**"
   ]
  },
  {
   "cell_type": "markdown",
   "id": "f9773958-87cc-469e-9ec0-78f00a5b06e1",
   "metadata": {},
   "source": [
    "* Provide some relevant background information on the topic so that someone unfamiliar with it will be prepared to understand the rest of your proposal\n",
    "* Clearly state the question you will try to answer with your project\n",
    "* Identify and describe the dataset that will be used to answer the question"
   ]
  },
  {
   "cell_type": "markdown",
   "id": "6f23689c-6384-45c0-b611-be808594980a",
   "metadata": {
    "tags": []
   },
   "source": [
    "**Preliminary Exploratory Data Analysis**"
   ]
  },
  {
   "cell_type": "code",
   "execution_count": 4,
   "id": "733cd64e-2a51-4691-bae2-d31cda4fd804",
   "metadata": {
    "tags": []
   },
   "outputs": [],
   "source": [
    "library(tidyverse)"
   ]
  },
  {
   "cell_type": "code",
   "execution_count": null,
   "id": "e1a8b699-fa26-40b8-a8f9-fedb707906e2",
   "metadata": {},
   "outputs": [],
   "source": []
  },
  {
   "cell_type": "markdown",
   "id": "fabfed3f-f6f4-4a51-8ade-5a31be515634",
   "metadata": {},
   "source": [
    "**Methods**"
   ]
  },
  {
   "cell_type": "markdown",
   "id": "f84efcd0-b064-47aa-8cba-d9d7b4592abc",
   "metadata": {},
   "source": [
    "* Explain how you will conduct either your data analysis and which variables/columns you will use. Note - you do not need to use all variables/columns that exist in the raw data set. In fact, that's often not a good idea. For each variable think: is this a useful variable for prediction?\n",
    "* Describe at least one way that you will visualize the results"
   ]
  },
  {
   "cell_type": "markdown",
   "id": "61618740-fffb-4ff3-a34d-21c7d7a63360",
   "metadata": {},
   "source": [
    "**Expected Outcomes and Significance**"
   ]
  },
  {
   "cell_type": "markdown",
   "id": "ef82dbba-58dd-4f40-b351-02bb831d5b99",
   "metadata": {},
   "source": [
    "* What do you expect to find?\n",
    "* What impact could such findings have?\n",
    "* What future questions could this lead to?"
   ]
  },
  {
   "cell_type": "code",
   "execution_count": null,
   "id": "5e65fc38-3bfa-4a51-9ceb-6790d4bbdbb8",
   "metadata": {},
   "outputs": [],
   "source": []
  }
 ],
 "metadata": {
  "kernelspec": {
   "display_name": "R",
   "language": "R",
   "name": "ir"
  },
  "language_info": {
   "codemirror_mode": "r",
   "file_extension": ".r",
   "mimetype": "text/x-r-source",
   "name": "R",
   "pygments_lexer": "r",
   "version": "4.2.2"
  }
 },
 "nbformat": 4,
 "nbformat_minor": 5
}
